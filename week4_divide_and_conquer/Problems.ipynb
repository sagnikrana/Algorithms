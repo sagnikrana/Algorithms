{
 "cells": [
  {
   "cell_type": "markdown",
   "metadata": {},
   "source": [
    "### Problem 1 - Binary Search"
   ]
  },
  {
   "cell_type": "code",
   "execution_count": 32,
   "metadata": {},
   "outputs": [
    {
     "name": "stdin",
     "output_type": "stream",
     "text": [
      " 5 1 5 8 12 13 5 8 1 23 1 11\n"
     ]
    },
    {
     "name": "stdout",
     "output_type": "stream",
     "text": [
      "2 0 -1 0 -1 "
     ]
    }
   ],
   "source": [
    "# Uses python3\n",
    "import sys\n",
    "import math\n",
    "\n",
    "\n",
    "def binary_search(a, low, high, x):\n",
    "    # write your code here\n",
    "    mid = low + math.floor((high - low) / 2)\n",
    "\n",
    "    if len(a) == 1:\n",
    "        if a[0] == x:\n",
    "            return 0\n",
    "        else:\n",
    "            return -1\n",
    "\n",
    "    elif a[mid] == x:\n",
    "        return mid\n",
    "\n",
    "    elif mid == low and a[mid] != x:\n",
    "        if a[high] == x:\n",
    "            return high\n",
    "        else:\n",
    "            return -1\n",
    "\n",
    "    elif a[mid] < x:\n",
    "        low = mid\n",
    "        return binary_search(a, low, high, x)\n",
    "\n",
    "    elif a[mid] > x:\n",
    "        high = mid\n",
    "        return binary_search(a, low, high, x)\n",
    "\n",
    "\n",
    "def linear_search(a, x):\n",
    "    for i in range(len(a)):\n",
    "        if a[i] == x:\n",
    "            return i\n",
    "    return -1\n",
    "\n",
    "\n",
    "if __name__ == '__main__':\n",
    "#     input = sys.stdin.read()\n",
    "    data = list(map(int, input().split()))\n",
    "    n = data[0]\n",
    "    m = data[n + 1]\n",
    "    a = data[1: n + 1]\n",
    "    for x in data[n + 2:]:\n",
    "        # replace with the call to binary_search when implemented\n",
    "        print(binary_search(a, 0, len(a)-1, x), end=' ')\n",
    "        \n",
    "    # inputs\n",
    "    # 5 1 5 8 12 13 5 8 1 23 1 11\n",
    "    # 5 1 5 8 12 13 1 23\n",
    "    # 1 1 1 0"
   ]
  },
  {
   "cell_type": "markdown",
   "metadata": {},
   "source": [
    "### Problem - 2 Counting Sort"
   ]
  },
  {
   "cell_type": "code",
   "execution_count": 43,
   "metadata": {},
   "outputs": [
    {
     "name": "stdin",
     "output_type": "stream",
     "text": [
      " 2 1 1\n"
     ]
    },
    {
     "name": "stdout",
     "output_type": "stream",
     "text": [
      "1\n"
     ]
    }
   ],
   "source": [
    "# Uses python3\n",
    "import sys\n",
    "\n",
    "def get_majority_element(a, low, high):\n",
    "    if low == high or len(a) == 0:\n",
    "        return 0\n",
    "\n",
    "    main_dict = {}\n",
    "    \n",
    "    for item in a:\n",
    "        if item in main_dict:\n",
    "            main_dict[item] = main_dict[item] + 1\n",
    "            if main_dict[item] > high/2:\n",
    "                return 1\n",
    "        else:\n",
    "            main_dict[item] = 1\n",
    "    #write your code here\n",
    "    return 0\n",
    "\n",
    "if __name__ == '__main__':\n",
    "#     input = sys.stdin.read()\n",
    "    n, *a = list(map(int, input().split()))\n",
    "    print(get_majority_element(a, 0, n))"
   ]
  },
  {
   "cell_type": "markdown",
   "metadata": {},
   "source": [
    "### Problem - 4 Number of Inversions"
   ]
  },
  {
   "cell_type": "code",
   "execution_count": null,
   "metadata": {},
   "outputs": [],
   "source": [
    "# Uses python3\n",
    "import sys\n",
    "\n",
    "def get_number_of_inversions(a, b, left, right):\n",
    "    number_of_inversions = 0\n",
    "    if right - left <= 1:\n",
    "        return number_of_inversions\n",
    "    ave = (left + right) // 2\n",
    "    number_of_inversions += get_number_of_inversions(a, b, left, ave)\n",
    "    number_of_inversions += get_number_of_inversions(a, b, ave, right)\n",
    "    #write your code here\n",
    "    return number_of_inversions\n",
    "\n",
    "if __name__ == '__main__':\n",
    "    input = sys.stdin.read()\n",
    "    n, *a = list(map(int, input.split()))\n",
    "    b = n * [0]\n",
    "    print(get_number_of_inversions(a, b, 0, len(a)))\n"
   ]
  },
  {
   "cell_type": "code",
   "execution_count": 102,
   "metadata": {},
   "outputs": [
    {
     "name": "stdin",
     "output_type": "stream",
     "text": [
      " 6 9 8 7 3 2 1\n"
     ]
    },
    {
     "name": "stdout",
     "output_type": "stream",
     "text": [
      "[1, 2, 3, 6, 7, 8, 9]\n",
      "#inversions 10\n"
     ]
    }
   ],
   "source": [
    "global inversion\n",
    "inversion = 0\n",
    "\n",
    "\n",
    "def MergeSort(array):\n",
    "    if len(array) == 0:\n",
    "        return []\n",
    "    sorted_array = []\n",
    "    all_arrays = [[i] for i in array]\n",
    "    index = 0\n",
    "    repeat = False\n",
    "\n",
    "    while True:\n",
    "\n",
    "        if repeat is True:\n",
    "            index = 0\n",
    "            repeat = False\n",
    "\n",
    "        if index + 1 == len(all_arrays):\n",
    "            sorted_array.append(Merge(all_arrays[index], []))\n",
    "            index = index + 1\n",
    "        else:\n",
    "            sorted_array.append(Merge(all_arrays[index], all_arrays[index + 1]))\n",
    "\n",
    "        if index == len(all_arrays) - 2 or index == len(all_arrays):\n",
    "            all_arrays.clear()\n",
    "            all_arrays = sorted_array\n",
    "            if len(sorted_array) == 1 and len(sorted_array[0]) == len(array):\n",
    "                break\n",
    "            else:\n",
    "                sorted_array = list()\n",
    "            repeat = True\n",
    "\n",
    "        index = index + 2\n",
    "\n",
    "    return sorted_array[0]\n",
    "\n",
    "\n",
    "def Merge(a, b):\n",
    "    first_array_traversed = False\n",
    "    second_array_traversed = False\n",
    "    main_list = []\n",
    "    while True:\n",
    "        if len(a) > 0 and len(b) > 0:\n",
    "            if a[0] < b[0]:\n",
    "                main_list.append(a[0])\n",
    "                del a[0]\n",
    "\n",
    "            elif a[0] == b[0]:\n",
    "                main_list.append(a[0])\n",
    "                del a[0]\n",
    "    \n",
    "            elif a[0] > b[0]:\n",
    "                main_list.append(b[0])\n",
    "                global inversion\n",
    "                inversion = inversion + len(a)-1\n",
    "                del b[0]\n",
    "\n",
    "        elif len(a) == 0 and first_array_traversed is False:\n",
    "            while len(b) != 0:\n",
    "                main_list.append(b[0])\n",
    "                del b[0]\n",
    "            first_array_traversed = True\n",
    "\n",
    "        elif len(b) == 0 and second_array_traversed is False:\n",
    "            while len(a) != 0:\n",
    "                main_list.append(a[0])\n",
    "                del a[0]\n",
    "            second_array_traversed = True\n",
    "\n",
    "        elif len(a) == 0 and len(b) == 0:\n",
    "            return main_list\n",
    "\n",
    "\n",
    "if __name__ == '__main__':\n",
    "    #     array = [1, 7, 8, 9, 5, 4, 7, 2, 3, 5, 6, 7, 1, 4, 2, 1, 6]\n",
    "    array = list(map(int, input().split()))\n",
    "#     array = [1,9,3,5,4,7]\n",
    "    print(MergeSort(array))\n",
    "    print('#inversions', inversion)"
   ]
  },
  {
   "cell_type": "code",
   "execution_count": 94,
   "metadata": {},
   "outputs": [
    {
     "data": {
      "text/plain": [
       "[2, 2, 3, 9]"
      ]
     },
     "execution_count": 94,
     "metadata": {},
     "output_type": "execute_result"
    }
   ],
   "source": [
    "def Merge(a, b):\n",
    "    first_array_traversed = False\n",
    "    second_array_traversed = False\n",
    "    main_list = []\n",
    "    while True:\n",
    "        if len(a) > 0 and len(b) > 0:\n",
    "            if a[0] < b[0]:\n",
    "                main_list.append(a[0])\n",
    "                del a[0]\n",
    "\n",
    "            elif a[0] == b[0]:\n",
    "                main_list.append(a[0])\n",
    "#                 main_list.append(b[0])\n",
    "                del a[0]\n",
    "#                 del b[0]\n",
    "\n",
    "            elif a[0] > b[0]:\n",
    "                main_list.append(b[0])\n",
    "                global inversion\n",
    "                inversion = inversion + 1\n",
    "                del b[0]\n",
    "\n",
    "        elif len(a) == 0 and first_array_traversed is False:\n",
    "            while len(b) != 0:\n",
    "                main_list.append(b[0])\n",
    "                del b[0]\n",
    "            first_array_traversed = True\n",
    "\n",
    "        elif len(b) == 0 and second_array_traversed is False:\n",
    "            while len(a) != 0:\n",
    "                main_list.append(a[0])\n",
    "                del a[0]\n",
    "            second_array_traversed = True\n",
    "\n",
    "        elif len(a) == 0 and len(b) == 0:\n",
    "            return main_list\n",
    "Merge([2,3], [2,9])"
   ]
  },
  {
   "cell_type": "code",
   "execution_count": 103,
   "metadata": {},
   "outputs": [
    {
     "data": {
      "text/plain": [
       "5"
      ]
     },
     "execution_count": 103,
     "metadata": {},
     "output_type": "execute_result"
    }
   ],
   "source": [
    "997%8"
   ]
  },
  {
   "cell_type": "code",
   "execution_count": null,
   "metadata": {},
   "outputs": [],
   "source": []
  }
 ],
 "metadata": {
  "kernelspec": {
   "display_name": "Python 3",
   "language": "python",
   "name": "python3"
  },
  "language_info": {
   "codemirror_mode": {
    "name": "ipython",
    "version": 3
   },
   "file_extension": ".py",
   "mimetype": "text/x-python",
   "name": "python",
   "nbconvert_exporter": "python",
   "pygments_lexer": "ipython3",
   "version": "3.7.4"
  }
 },
 "nbformat": 4,
 "nbformat_minor": 4
}
