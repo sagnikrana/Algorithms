{
 "cells": [
  {
   "cell_type": "markdown",
   "metadata": {},
   "source": [
    "### Singly Linked List"
   ]
  },
  {
   "cell_type": "markdown",
   "metadata": {},
   "source": [
    "Sample Object Oriented Programming in Python"
   ]
  },
  {
   "cell_type": "code",
   "execution_count": 15,
   "metadata": {},
   "outputs": [
    {
     "name": "stdout",
     "output_type": "stream",
     "text": [
      "Enter Student FirstName\n"
     ]
    },
    {
     "name": "stdin",
     "output_type": "stream",
     "text": [
      " Medha\n"
     ]
    },
    {
     "name": "stdout",
     "output_type": "stream",
     "text": [
      "Enter Student LastName\n"
     ]
    },
    {
     "name": "stdin",
     "output_type": "stream",
     "text": [
      " Dutta\n"
     ]
    },
    {
     "name": "stdout",
     "output_type": "stream",
     "text": [
      "The first name is Medha\n",
      "The last name is Dutta\n"
     ]
    }
   ],
   "source": [
    "class Student:\n",
    "    def __init__(self, fname, lname):\n",
    "        self.fname = fname\n",
    "        self.lname = lname\n",
    "    \n",
    "    def getFirstName(self):\n",
    "        return 'The first name is '+str(self.fname)\n",
    "    \n",
    "    def getLastName(self):\n",
    "        return 'The last name is '+str(self.lname)\n",
    "    \n",
    "if __name__ == '__main__':\n",
    "    \n",
    "    print(\"Enter Student FirstName\")\n",
    "    fname = input()\n",
    "    print(\"Enter Student LastName\")\n",
    "    lname = input()\n",
    "    \n",
    "    student = Student(fname, lname)\n",
    "    \n",
    "    print(student.getFirstName())\n",
    "    print(student.getLastName())"
   ]
  },
  {
   "cell_type": "markdown",
   "metadata": {},
   "source": [
    "##### There is no package for LinkedList. Implementing from scratch using Object Oriented Approach"
   ]
  },
  {
   "cell_type": "markdown",
   "metadata": {},
   "source": [
    "#### Building and traversing a singly linked list"
   ]
  },
  {
   "cell_type": "code",
   "execution_count": 1,
   "metadata": {},
   "outputs": [
    {
     "name": "stdout",
     "output_type": "stream",
     "text": [
      "zetta\n",
      "alpha\n",
      "beta\n",
      "gamma\n",
      "delta\n"
     ]
    }
   ],
   "source": [
    "class Node:\n",
    "\n",
    "    def __init__(self, val=None):\n",
    "        self.val = val\n",
    "        self.next = None\n",
    "\n",
    "\n",
    "class SinglyLinkedList:\n",
    "\n",
    "    def __init__(self):\n",
    "        self.head = None\n",
    "\n",
    "    def listPrint(self):\n",
    "        traverse_node = self.head\n",
    "        while traverse_node is not None:\n",
    "            print(traverse_node.val)\n",
    "            traverse_node = traverse_node.next\n",
    "\n",
    "    def addAtBeginning(self, string_to_add):\n",
    "        node_at_beg = Node(string_to_add)\n",
    "        node_at_beg.next = self.head\n",
    "        # new reference\n",
    "        self.head = node_at_beg\n",
    "\n",
    "    def addAtEnd(self, string_to_add):\n",
    "        node_at_end = Node(string_to_add)\n",
    "\n",
    "        # Traverse becasue you don't know the last node\n",
    "        traverse_node = self.head\n",
    "        while traverse_node is not None:\n",
    "            if traverse_node.next is None:\n",
    "                last_node = traverse_node\n",
    "            traverse_node = traverse_node.next\n",
    "\n",
    "        last_node.next = node_at_end\n",
    "        \n",
    "    def addInMiddle(self, first_string, second_string, string_to_add):\n",
    "        traverse_node = self.head\n",
    "        while True:\n",
    "            \n",
    "            if traverse_node.val == first_string and traverse_node.next.val == second_string:\n",
    "                new_node = Node(string_to_add)\n",
    "                second_node = traverse_node.next\n",
    "                traverse_node.next = new_node\n",
    "                new_node.next = second_node\n",
    "                break\n",
    "            traverse_node = traverse_node.next\n",
    "            \n",
    "    def deleteNode(self, string_to_be_deleted):\n",
    "        traverse_node = self.head\n",
    "        while True:\n",
    "            if traverse_node.next.val == string_to_be_deleted:\n",
    "                traverse_node.next = traverse_node.next.next\n",
    "                break\n",
    "            \n",
    "            traverse_node = traverse_node.next\n",
    "            \n",
    "    def pop(self):\n",
    "        # Traverse becasue you do not know the last node\n",
    "        \n",
    "        traverse_node = self.head\n",
    "        while True:\n",
    "            if traverse_node.next.next is None:\n",
    "                traverse_node.next = None\n",
    "                break\n",
    "            \n",
    "            traverse_node = traverse_node.next\n",
    "\n",
    "if __name__ == '__main__':\n",
    "    list = SinglyLinkedList()\n",
    "    list.head = Node('alpha')\n",
    "    node1 = Node('beta')\n",
    "    node2 = Node('gamma')\n",
    "    node3 = Node('delta')\n",
    "\n",
    "    # Linking the nodes\n",
    "    list.head.next = node1\n",
    "    node1.next = node2\n",
    "    node2.next = node3\n",
    "\n",
    "    list.addAtBeginning('zetta')\n",
    "    list.addAtEnd('getta')\n",
    "    list.addInMiddle('beta','gamma','sagnik')\n",
    "    list.deleteNode('sagnik')\n",
    "    list.pop()\n",
    "    list.listPrint()"
   ]
  },
  {
   "cell_type": "markdown",
   "metadata": {},
   "source": [
    "#### Building and traversing doubly linked list"
   ]
  },
  {
   "cell_type": "code",
   "execution_count": 12,
   "metadata": {},
   "outputs": [
    {
     "name": "stdout",
     "output_type": "stream",
     "text": [
      "zetta\n",
      "alpha\n",
      "beta\n",
      "gamma\n",
      "delta\n",
      "*****\n",
      "delta\n",
      "gamma\n",
      "beta\n",
      "alpha\n",
      "zetta\n"
     ]
    }
   ],
   "source": [
    "class Node:\n",
    "\n",
    "    def __init__(self, val=None):\n",
    "        self.val = val\n",
    "        self.next = None\n",
    "        self.previous = None\n",
    "\n",
    "class DoublyLinkedList:\n",
    "\n",
    "    def __init__(self):\n",
    "        self.head = None\n",
    "        \n",
    "    def getLastNode(self):\n",
    "        # Traverse becasue you don't know the last node\n",
    "        traverse_node = self.head\n",
    "        while traverse_node is not None:\n",
    "            if traverse_node.next is None:\n",
    "                last_node = traverse_node\n",
    "            traverse_node = traverse_node.next\n",
    "        \n",
    "        return last_node\n",
    "\n",
    "    def listPrint(self):\n",
    "        traverse_node = self.head\n",
    "        while traverse_node is not None:\n",
    "            print(traverse_node.val)\n",
    "            traverse_node = traverse_node.next\n",
    "            \n",
    "    def listPrintReverse(self):\n",
    "        traverse_node = self.getLastNode()\n",
    "        while True:\n",
    "            print(traverse_node.val)\n",
    "            if traverse_node.previous == None:\n",
    "                break\n",
    "            else:\n",
    "                traverse_node = traverse_node.previous\n",
    "\n",
    "    def addAtBeginning(self, string_to_add):\n",
    "        node_at_beg = Node(string_to_add)\n",
    "        node_at_beg.next = self.head\n",
    "        node_at_beg.previous = None\n",
    "        self.head.previous = node_at_beg\n",
    "        \n",
    "        # new reference\n",
    "        self.head = node_at_beg\n",
    "\n",
    "    def addAtEnd(self, string_to_add):\n",
    "        node_at_end = Node(string_to_add)\n",
    "        \n",
    "        last_node = self.getLastNode()\n",
    "        last_node.next = node_at_end\n",
    "        last_node.next.previous = last_node\n",
    "        \n",
    "    def addInMiddle(self, first_string, second_string, string_to_add):\n",
    "        traverse_node = self.head\n",
    "        while True:\n",
    "            \n",
    "            if traverse_node.val == first_string and traverse_node.next.val == second_string:\n",
    "                new_node = Node(string_to_add)\n",
    "                second_node = traverse_node.next\n",
    "                traverse_node.next = new_node\n",
    "                \n",
    "                #Setting the new node\n",
    "                new_node.previous = traverse_node\n",
    "                new_node.next = second_node\n",
    "                \n",
    "                break\n",
    "            traverse_node = traverse_node.next\n",
    "            \n",
    "    def deleteNode(self, string_to_be_deleted):\n",
    "        traverse_node = self.head\n",
    "        while True:\n",
    "            if traverse_node.next.val == string_to_be_deleted:\n",
    "                traverse_node.next = traverse_node.next.next\n",
    "                traverse_node.next.previous = traverse_node\n",
    "                break\n",
    "            \n",
    "            traverse_node = traverse_node.next\n",
    "            \n",
    "    def pop(self):\n",
    "        last_node = self.getLastNode()\n",
    "        last_node.previous.next = None\n",
    "\n",
    "if __name__ == '__main__':\n",
    "    list = DoublyLinkedList()\n",
    "    list.head = Node('alpha')\n",
    "    node1 = Node('beta')\n",
    "    node2 = Node('gamma')\n",
    "    node3 = Node('delta')\n",
    "\n",
    "    # Linking the nodes\n",
    "    list.head.next = node1\n",
    "    list.head.previous = None\n",
    "    \n",
    "    node1.next = node2\n",
    "    node1.previous = list.head\n",
    "    \n",
    "    node2.next = node3\n",
    "    node2.previous = node1\n",
    "    \n",
    "    node3.next = None\n",
    "    node3.previous = node2\n",
    "\n",
    "    list.addAtBeginning('zetta')\n",
    "    list.addAtEnd('getta')\n",
    "    list.addInMiddle('beta','gamma','sagnik')\n",
    "    list.deleteNode('sagnik')\n",
    "    list.pop()\n",
    "    list.listPrint()\n",
    "    print('*****')\n",
    "    list.listPrintReverse()"
   ]
  },
  {
   "cell_type": "markdown",
   "metadata": {},
   "source": [
    "##### The below implementation of Queue and Stack are taken from GeeksForGeeks.<br>\n",
    "##### There are separate modules for the data structures, utilizing them to understand the implementation."
   ]
  },
  {
   "cell_type": "markdown",
   "metadata": {},
   "source": [
    "### Implementation of Queue"
   ]
  },
  {
   "cell_type": "markdown",
   "metadata": {},
   "source": [
    "Queue is built-in module of Python which is used to implement a queue.<br> queue.Queue(maxsize) initializes a variable to a maximum size of maxsize.<br> A maxsize of zero ‘0’ means a infinite queue. This Queue follows FIFO rule.<br>\n",
    "There are various functions available in this module:<br><br>\n",
    "\n",
    "maxsize – Number of items allowed in the queue.<br>\n",
    "empty() – Return True if the queue is empty, False otherwise.<br>\n",
    "full() – Return True if there are maxsize items in the queue. If the queue was initialized with maxsize=0 (the default), then full() never returns True.<br>\n",
    "get() – Remove and return an item from the queue. If queue is empty, wait until an item is available.<br>\n",
    "get_nowait() – Return an item if one is immediately available, else raise QueueEmpty.<br>\n",
    "put(item) – Put an item into the queue. If the queue is full, wait until a free slot is available before adding the item.<br>\n",
    "put_nowait(item) – Put an item into the queue without blocking.<br>\n",
    "qsize() – Return the number of items in the queue. If no free slot is immediately available, raise QueueFull.<br>"
   ]
  },
  {
   "cell_type": "code",
   "execution_count": 14,
   "metadata": {},
   "outputs": [
    {
     "name": "stdout",
     "output_type": "stream",
     "text": [
      "0\n",
      "\n",
      "Full:  True\n",
      "\n",
      "Elements dequeued from the queue\n",
      "a\n",
      "b\n",
      "c\n",
      "\n",
      "Empty:  True\n",
      "\n",
      "Empty:  False\n",
      "Full:  False\n"
     ]
    }
   ],
   "source": [
    "# Python program to \n",
    "# demonstrate implementation of \n",
    "# queue using queue module \n",
    "  \n",
    "from queue import Queue\n",
    "  \n",
    "# Initializing a queue \n",
    "q = Queue(maxsize = 3) \n",
    "  \n",
    "# qsize() give the maxsize  \n",
    "# of the Queue  \n",
    "print(q.qsize())  \n",
    "  \n",
    "# Adding of element to queue \n",
    "q.put('a') \n",
    "q.put('b') \n",
    "q.put('c') \n",
    "  \n",
    "# Return Boolean for Full  \n",
    "# Queue  \n",
    "print(\"\\nFull: \", q.full())  \n",
    "  \n",
    "# Removing element from queue \n",
    "print(\"\\nElements dequeued from the queue\") \n",
    "print(q.get()) \n",
    "print(q.get()) \n",
    "print(q.get()) \n",
    "  \n",
    "# Return Boolean for Empty  \n",
    "# Queue  \n",
    "print(\"\\nEmpty: \", q.empty())\n",
    "  \n",
    "q.put(1)\n",
    "print(\"\\nEmpty: \", q.empty())  \n",
    "print(\"Full: \", q.full()) \n",
    "  \n",
    "# This would result into Infinite  \n",
    "# Loop as the Queue is empty.  \n",
    "# print(q.get()) "
   ]
  },
  {
   "cell_type": "markdown",
   "metadata": {},
   "source": [
    "### Implementation of stack"
   ]
  },
  {
   "cell_type": "markdown",
   "metadata": {},
   "source": [
    "Queue module also has a LIFO Queue, which is basically a Stack. <br> Data is inserted into Queue using put() function and get() takes data out from the Queue. <br> \n",
    "There are various functions available in this module: <br>  <br> \n",
    "\n",
    "maxsize – Number of items allowed in the queue. <br> \n",
    "empty() – Return True if the queue is empty, False otherwise. <br> \n",
    "full() – Return True if there are maxsize items in the queue. If the queue was initialized with maxsize=0 (the default), then full() never returns True. <br> \n",
    "get() – Remove and return an item from the queue. If queue is empty, wait until an item is available. <br> \n",
    "get_nowait() – Return an item if one is immediately available, else raise QueueEmpty. <br> \n",
    "put(item) – Put an item into the queue. If the queue is full, wait until a free slot is available before adding the item. <br> \n",
    "put_nowait(item) – Put an item into the queue without blocking. <br> \n",
    "qsize() – Return the number of items in the queue. If no free slot is immediately available, raise QueueFull. <br> "
   ]
  },
  {
   "cell_type": "code",
   "execution_count": 15,
   "metadata": {},
   "outputs": [
    {
     "name": "stdout",
     "output_type": "stream",
     "text": [
      "0\n",
      "Full:  True\n",
      "Size:  3\n",
      "\n",
      "Elements poped from the stack\n",
      "c\n",
      "b\n",
      "a\n",
      "\n",
      "Empty:  True\n"
     ]
    }
   ],
   "source": [
    "# Python program to  \n",
    "# demonstrate stack implementation \n",
    "# using queue module \n",
    "\n",
    "\n",
    "from queue import LifoQueue \n",
    "  \n",
    "# Initializing a stack \n",
    "stack = LifoQueue(maxsize = 3) \n",
    "  \n",
    "# qsize() show the number of elements \n",
    "# in the stack \n",
    "print(stack.qsize()) \n",
    "   \n",
    "# put() function to push \n",
    "# element in the stack \n",
    "stack.put('a') \n",
    "stack.put('b') \n",
    "stack.put('c') \n",
    "  \n",
    "print(\"Full: \", stack.full())  \n",
    "print(\"Size: \", stack.qsize())  \n",
    "  \n",
    "# get() fucntion to pop \n",
    "# element from stack in  \n",
    "# LIFO order \n",
    "print('\\nElements poped from the stack') \n",
    "print(stack.get()) \n",
    "print(stack.get()) \n",
    "print(stack.get()) \n",
    "  \n",
    "print(\"\\nEmpty: \", stack.empty()) "
   ]
  },
  {
   "cell_type": "markdown",
   "metadata": {},
   "source": [
    "### Binary Search Tree"
   ]
  },
  {
   "cell_type": "code",
   "execution_count": 33,
   "metadata": {},
   "outputs": [
    {
     "name": "stdout",
     "output_type": "stream",
     "text": [
      "Inorder Traversal\n",
      "10\n",
      "20\n",
      "30\n",
      "50\n",
      "60\n",
      "80\n",
      "100\n",
      "PreOrder Travesrsal\n",
      "50\n",
      "10\n",
      "20\n",
      "30\n",
      "60\n",
      "80\n",
      "100\n",
      "PostOrder Traversal\n",
      "10\n",
      "20\n",
      "30\n",
      "60\n",
      "80\n",
      "100\n",
      "50\n"
     ]
    }
   ],
   "source": [
    "class Node:\n",
    "    \n",
    "    def __init__(self, key):\n",
    "        self.left = None\n",
    "        self.right = None\n",
    "        self.val = key\n",
    "    \n",
    "def insert(root, new_node):\n",
    "    if new_node.val < root.val:\n",
    "        if root.left is None:\n",
    "            root.left = new_node\n",
    "        else:\n",
    "            insert(root.left, new_node)\n",
    "    else:\n",
    "        if root.right is None:\n",
    "            root.right = new_node\n",
    "        else:\n",
    "            insert(root.right, new_node)\n",
    "\n",
    "def printInOrderTraversal(root):\n",
    "    if root is not None:\n",
    "        printInOrderTraversal(root.left)\n",
    "        print(root.val)\n",
    "        printInOrderTraversal(root.right)\n",
    "            \n",
    "def printPreOrderTraversal(root):\n",
    "    if root is not None:\n",
    "        print(root.val)\n",
    "        printInOrderTraversal(root.left)\n",
    "        printInOrderTraversal(root.right)\n",
    "\n",
    "def printPostOrderTraversal(root):\n",
    "    if root is not None:\n",
    "        printInOrderTraversal(root.left)\n",
    "        printInOrderTraversal(root.right)\n",
    "        print(root.val)\n",
    "\n",
    "\n",
    "if __name__ == '__main__':\n",
    "    root = Node(50)\n",
    "    insert(root, Node(10))\n",
    "    insert(root, Node(20))\n",
    "    insert(root, Node(30))\n",
    "    insert(root, Node(60))\n",
    "    insert(root, Node(80))\n",
    "    insert(root, Node(100))\n",
    "    print(\"Inorder Traversal\")\n",
    "    printInOrderTraversal(root)\n",
    "    print(\"PreOrder Travesrsal\")\n",
    "    printPreOrderTraversal(root)\n",
    "    print(\"PostOrder Traversal\")\n",
    "    printPostOrderTraversal(root)"
   ]
  },
  {
   "cell_type": "markdown",
   "metadata": {},
   "source": [
    "### Priority Queue and Traversals"
   ]
  },
  {
   "cell_type": "markdown",
   "metadata": {},
   "source": [
    "In the below example, the key is the priority"
   ]
  },
  {
   "cell_type": "code",
   "execution_count": 52,
   "metadata": {},
   "outputs": [
    {
     "name": "stdout",
     "output_type": "stream",
     "text": [
      "7\n",
      "6\n",
      "3\n"
     ]
    }
   ],
   "source": [
    "from queue import Queue\n",
    "        \n",
    "def extractMax(queue):\n",
    "    max_element = queue[-1]\n",
    "    del queue[-1]\n",
    "    return max_element\n",
    "\n",
    "def appendElement(queue, value_to_add):\n",
    "    queue.append(value_to_add)\n",
    "    return sorted(queue)\n",
    "    \n",
    "    \n",
    "if __name__ == '__main__':\n",
    "    \n",
    "    queue = list()\n",
    "    queue = appendElement(queue, 1)\n",
    "    queue = appendElement(queue, 6)\n",
    "    queue = appendElement(queue, 7)\n",
    "    queue = appendElement(queue, 2)\n",
    "    queue = appendElement(queue, 3)\n",
    "    print(extractMax(queue))\n",
    "    print(extractMax(queue))\n",
    "    print(extractMax(queue))"
   ]
  },
  {
   "cell_type": "markdown",
   "metadata": {},
   "source": [
    "### Binary Max Heap Tree"
   ]
  },
  {
   "cell_type": "code",
   "execution_count": 60,
   "metadata": {},
   "outputs": [
    {
     "name": "stdout",
     "output_type": "stream",
     "text": [
      "True\n"
     ]
    }
   ],
   "source": [
    "global ans\n",
    "ans = list()\n",
    "class Node:\n",
    "    \n",
    "    def __init__(self, val):\n",
    "        self.val = val\n",
    "        self.left = None\n",
    "        self.right = None\n",
    "        self.parent = None\n",
    "        \n",
    "def validateSubTree(node):\n",
    "    if node.left is None and node.right is None:\n",
    "        return True\n",
    "    else:\n",
    "        if node.left is not None and node.right is not None:\n",
    "            if node.val >= node.left.val and node.val >= node.right.val:\n",
    "#                 return True\n",
    "                ans.append(1)\n",
    "                validateSubTree(node.left)\n",
    "                validateSubTree(node.right)\n",
    "            else:\n",
    "                return False\n",
    "        \n",
    "        if node.left is None:\n",
    "            if node.val >= node.right.val:\n",
    "#                 return True\n",
    "                ans.append(1)\n",
    "                validateSubTree(node.right)\n",
    "            else:\n",
    "                return False\n",
    "        \n",
    "        if node.right is None:\n",
    "            if node.val >= node.left.val:\n",
    "#                 return True\n",
    "                ans.append(1)\n",
    "                validateSubTree(node.left)\n",
    "            else:\n",
    "                return False\n",
    "            \n",
    "            \n",
    "    \n",
    "def validateBinaryHeapTree(root):\n",
    "    if root.left is None and root.right is None:\n",
    "        return True\n",
    "    else:\n",
    "        validateSubTree(root)\n",
    "    \n",
    "    if 0 in ans:\n",
    "        return False\n",
    "    else:\n",
    "        return True\n",
    "    \n",
    "        \n",
    "\n",
    "def returnMaxValue(root):\n",
    "    return root.val\n",
    "    \n",
    "    \n",
    "if __name__ == '__main__':\n",
    "    \n",
    "    # creating a sample binary tree ~ hardcoding\n",
    "    root = Node(10)\n",
    "    root.left = Node(8)\n",
    "    root.right = Node(9)\n",
    "    root.parent = None\n",
    "    root.left.left = Node(6)\n",
    "    root.left.right = Node(4)\n",
    "    root.left.left.parent = root.left\n",
    "    root.left.right.parent = root.left\n",
    "    root.right.left = Node(7)\n",
    "    root.right.right = Node(5)\n",
    "    root.right.left.parent = root.right\n",
    "    root.right.right.parent = root.right\n",
    "    \n",
    "    # Trying to validate the Tree\n",
    "    print(validateBinaryHeapTree(root))"
   ]
  },
  {
   "cell_type": "code",
   "execution_count": null,
   "metadata": {},
   "outputs": [],
   "source": []
  }
 ],
 "metadata": {
  "kernelspec": {
   "display_name": "Python 3",
   "language": "python",
   "name": "python3"
  },
  "language_info": {
   "codemirror_mode": {
    "name": "ipython",
    "version": 3
   },
   "file_extension": ".py",
   "mimetype": "text/x-python",
   "name": "python",
   "nbconvert_exporter": "python",
   "pygments_lexer": "ipython3",
   "version": "3.7.4"
  }
 },
 "nbformat": 4,
 "nbformat_minor": 4
}
